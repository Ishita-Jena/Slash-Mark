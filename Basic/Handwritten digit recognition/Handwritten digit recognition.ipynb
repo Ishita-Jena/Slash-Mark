{
 "cells": [
  {
   "cell_type": "code",
   "execution_count": 8,
   "id": "8f61a1e5",
   "metadata": {},
   "outputs": [],
   "source": [
    "import tensorflow as tf\n",
    "from tensorflow.keras.datasets import mnist\n",
    "from tensorflow.keras.models import Sequential\n",
    "from tensorflow.keras.layers import Conv2D, MaxPooling2D, Flatten, Dense\n",
    "from tensorflow.keras.utils import to_categorical"
   ]
  },
  {
   "cell_type": "code",
   "execution_count": 9,
   "id": "9667314c",
   "metadata": {},
   "outputs": [],
   "source": [
    "(x_train, y_train), (x_test, y_test) = mnist.load_data()"
   ]
  },
  {
   "cell_type": "code",
   "execution_count": 10,
   "id": "c5ebcedb",
   "metadata": {},
   "outputs": [],
   "source": [
    "x_train = x_train.reshape(x_train.shape[0], 28, 28, 1).astype('float32') / 255\n",
    "x_test = x_test.reshape(x_test.shape[0], 28, 28, 1).astype('float32') / 255\n",
    "y_train = to_categorical(y_train, 10)\n",
    "y_test = to_categorical(y_test, 10)"
   ]
  },
  {
   "cell_type": "code",
   "execution_count": 11,
   "id": "0c6ef686",
   "metadata": {},
   "outputs": [
    {
     "name": "stdout",
     "output_type": "stream",
     "text": [
      "Model: \"sequential_1\"\n",
      "_________________________________________________________________\n",
      " Layer (type)                Output Shape              Param #   \n",
      "=================================================================\n",
      " conv2d_2 (Conv2D)           (None, 26, 26, 32)        320       \n",
      "                                                                 \n",
      " max_pooling2d_2 (MaxPoolin  (None, 13, 13, 32)        0         \n",
      " g2D)                                                            \n",
      "                                                                 \n",
      " conv2d_3 (Conv2D)           (None, 11, 11, 64)        18496     \n",
      "                                                                 \n",
      " max_pooling2d_3 (MaxPoolin  (None, 5, 5, 64)          0         \n",
      " g2D)                                                            \n",
      "                                                                 \n",
      " flatten_1 (Flatten)         (None, 1600)              0         \n",
      "                                                                 \n",
      " dense_2 (Dense)             (None, 128)               204928    \n",
      "                                                                 \n",
      " dense_3 (Dense)             (None, 10)                1290      \n",
      "                                                                 \n",
      "=================================================================\n",
      "Total params: 225034 (879.04 KB)\n",
      "Trainable params: 225034 (879.04 KB)\n",
      "Non-trainable params: 0 (0.00 Byte)\n",
      "_________________________________________________________________\n"
     ]
    }
   ],
   "source": [
    "model = Sequential([\n",
    "    Conv2D(32, kernel_size=(3, 3), activation='relu', input_shape=(28, 28, 1)),\n",
    "    MaxPooling2D(pool_size=(2, 2)),\n",
    "    Conv2D(64, kernel_size=(3, 3), activation='relu'),\n",
    "    MaxPooling2D(pool_size=(2, 2)),\n",
    "    Flatten(),\n",
    "    Dense(128, activation='relu'),\n",
    "    Dense(10, activation='softmax')\n",
    "])\n",
    "\n",
    "model.compile(optimizer='adam', loss='categorical_crossentropy', metrics=['accuracy'])\n",
    "model.summary()"
   ]
  },
  {
   "cell_type": "code",
   "execution_count": 12,
   "id": "358e8967",
   "metadata": {},
   "outputs": [
    {
     "name": "stdout",
     "output_type": "stream",
     "text": [
      "Epoch 1/10\n",
      "375/375 [==============================] - 24s 60ms/step - loss: 0.2521 - accuracy: 0.9258 - val_loss: 0.0961 - val_accuracy: 0.9710\n",
      "Epoch 2/10\n",
      "375/375 [==============================] - 22s 60ms/step - loss: 0.0666 - accuracy: 0.9794 - val_loss: 0.0636 - val_accuracy: 0.9802\n",
      "Epoch 3/10\n",
      "375/375 [==============================] - 23s 60ms/step - loss: 0.0464 - accuracy: 0.9850 - val_loss: 0.0495 - val_accuracy: 0.9843\n",
      "Epoch 4/10\n",
      "375/375 [==============================] - 23s 60ms/step - loss: 0.0332 - accuracy: 0.9896 - val_loss: 0.0417 - val_accuracy: 0.9876\n",
      "Epoch 5/10\n",
      "375/375 [==============================] - 23s 60ms/step - loss: 0.0266 - accuracy: 0.9918 - val_loss: 0.0458 - val_accuracy: 0.9856\n",
      "Epoch 6/10\n",
      "375/375 [==============================] - 23s 61ms/step - loss: 0.0205 - accuracy: 0.9936 - val_loss: 0.0358 - val_accuracy: 0.9901\n",
      "Epoch 7/10\n",
      "375/375 [==============================] - 23s 61ms/step - loss: 0.0154 - accuracy: 0.9954 - val_loss: 0.0460 - val_accuracy: 0.9863\n",
      "Epoch 8/10\n",
      "375/375 [==============================] - 23s 61ms/step - loss: 0.0133 - accuracy: 0.9958 - val_loss: 0.0412 - val_accuracy: 0.9885\n",
      "Epoch 9/10\n",
      "375/375 [==============================] - 23s 61ms/step - loss: 0.0110 - accuracy: 0.9965 - val_loss: 0.0586 - val_accuracy: 0.9842\n",
      "Epoch 10/10\n",
      "375/375 [==============================] - 23s 61ms/step - loss: 0.0093 - accuracy: 0.9967 - val_loss: 0.0379 - val_accuracy: 0.9896\n"
     ]
    },
    {
     "data": {
      "text/plain": [
       "<keras.src.callbacks.History at 0x24c45eee910>"
      ]
     },
     "execution_count": 12,
     "metadata": {},
     "output_type": "execute_result"
    }
   ],
   "source": [
    "model.fit(x_train, y_train, batch_size=128, epochs=10, validation_split=0.2)"
   ]
  },
  {
   "cell_type": "code",
   "execution_count": 13,
   "id": "bcfb3812",
   "metadata": {},
   "outputs": [
    {
     "name": "stdout",
     "output_type": "stream",
     "text": [
      "313/313 [==============================] - 2s 7ms/step - loss: 0.0269 - accuracy: 0.9926\n",
      "Test accuracy: 0.9926000237464905\n",
      "Test loss: 0.026894662529230118\n"
     ]
    }
   ],
   "source": [
    "test_loss, test_acc = model.evaluate(x_test, y_test)\n",
    "print(f'Test accuracy: {test_acc}')\n",
    "print(f'Test loss: {test_loss}')"
   ]
  }
 ],
 "metadata": {
  "kernelspec": {
   "display_name": "Python 3 (ipykernel)",
   "language": "python",
   "name": "python3"
  },
  "language_info": {
   "codemirror_mode": {
    "name": "ipython",
    "version": 3
   },
   "file_extension": ".py",
   "mimetype": "text/x-python",
   "name": "python",
   "nbconvert_exporter": "python",
   "pygments_lexer": "ipython3",
   "version": "3.9.16"
  }
 },
 "nbformat": 4,
 "nbformat_minor": 5
}
