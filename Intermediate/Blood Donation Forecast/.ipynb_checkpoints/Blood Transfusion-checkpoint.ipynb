{
 "cells": [
  {
   "cell_type": "code",
   "execution_count": 1,
   "id": "5e330e1a",
   "metadata": {},
   "outputs": [],
   "source": [
    "import pandas as pd\n",
    "import numpy as np\n",
    "import matplotlib.pyplot as plt\n",
    "import seaborn as sns"
   ]
  },
  {
   "cell_type": "code",
   "execution_count": 2,
   "id": "de5981a6",
   "metadata": {},
   "outputs": [
    {
     "data": {
      "text/html": [
       "<div>\n",
       "<style scoped>\n",
       "    .dataframe tbody tr th:only-of-type {\n",
       "        vertical-align: middle;\n",
       "    }\n",
       "\n",
       "    .dataframe tbody tr th {\n",
       "        vertical-align: top;\n",
       "    }\n",
       "\n",
       "    .dataframe thead th {\n",
       "        text-align: right;\n",
       "    }\n",
       "</style>\n",
       "<table border=\"1\" class=\"dataframe\">\n",
       "  <thead>\n",
       "    <tr style=\"text-align: right;\">\n",
       "      <th></th>\n",
       "      <th>Recency (months)</th>\n",
       "      <th>Frequency (times)</th>\n",
       "      <th>Monetary (c.c. blood)</th>\n",
       "      <th>Time (months)</th>\n",
       "      <th>whether he/she donated blood in March 2007</th>\n",
       "    </tr>\n",
       "  </thead>\n",
       "  <tbody>\n",
       "    <tr>\n",
       "      <th>0</th>\n",
       "      <td>2</td>\n",
       "      <td>50</td>\n",
       "      <td>12500</td>\n",
       "      <td>98</td>\n",
       "      <td>1</td>\n",
       "    </tr>\n",
       "    <tr>\n",
       "      <th>1</th>\n",
       "      <td>0</td>\n",
       "      <td>13</td>\n",
       "      <td>3250</td>\n",
       "      <td>28</td>\n",
       "      <td>1</td>\n",
       "    </tr>\n",
       "    <tr>\n",
       "      <th>2</th>\n",
       "      <td>1</td>\n",
       "      <td>16</td>\n",
       "      <td>4000</td>\n",
       "      <td>35</td>\n",
       "      <td>1</td>\n",
       "    </tr>\n",
       "    <tr>\n",
       "      <th>3</th>\n",
       "      <td>2</td>\n",
       "      <td>20</td>\n",
       "      <td>5000</td>\n",
       "      <td>45</td>\n",
       "      <td>1</td>\n",
       "    </tr>\n",
       "    <tr>\n",
       "      <th>4</th>\n",
       "      <td>1</td>\n",
       "      <td>24</td>\n",
       "      <td>6000</td>\n",
       "      <td>77</td>\n",
       "      <td>0</td>\n",
       "    </tr>\n",
       "    <tr>\n",
       "      <th>...</th>\n",
       "      <td>...</td>\n",
       "      <td>...</td>\n",
       "      <td>...</td>\n",
       "      <td>...</td>\n",
       "      <td>...</td>\n",
       "    </tr>\n",
       "    <tr>\n",
       "      <th>743</th>\n",
       "      <td>23</td>\n",
       "      <td>2</td>\n",
       "      <td>500</td>\n",
       "      <td>38</td>\n",
       "      <td>0</td>\n",
       "    </tr>\n",
       "    <tr>\n",
       "      <th>744</th>\n",
       "      <td>21</td>\n",
       "      <td>2</td>\n",
       "      <td>500</td>\n",
       "      <td>52</td>\n",
       "      <td>0</td>\n",
       "    </tr>\n",
       "    <tr>\n",
       "      <th>745</th>\n",
       "      <td>23</td>\n",
       "      <td>3</td>\n",
       "      <td>750</td>\n",
       "      <td>62</td>\n",
       "      <td>0</td>\n",
       "    </tr>\n",
       "    <tr>\n",
       "      <th>746</th>\n",
       "      <td>39</td>\n",
       "      <td>1</td>\n",
       "      <td>250</td>\n",
       "      <td>39</td>\n",
       "      <td>0</td>\n",
       "    </tr>\n",
       "    <tr>\n",
       "      <th>747</th>\n",
       "      <td>72</td>\n",
       "      <td>1</td>\n",
       "      <td>250</td>\n",
       "      <td>72</td>\n",
       "      <td>0</td>\n",
       "    </tr>\n",
       "  </tbody>\n",
       "</table>\n",
       "<p>748 rows × 5 columns</p>\n",
       "</div>"
      ],
      "text/plain": [
       "     Recency (months)  Frequency (times)  Monetary (c.c. blood)  \\\n",
       "0                   2                 50                  12500   \n",
       "1                   0                 13                   3250   \n",
       "2                   1                 16                   4000   \n",
       "3                   2                 20                   5000   \n",
       "4                   1                 24                   6000   \n",
       "..                ...                ...                    ...   \n",
       "743                23                  2                    500   \n",
       "744                21                  2                    500   \n",
       "745                23                  3                    750   \n",
       "746                39                  1                    250   \n",
       "747                72                  1                    250   \n",
       "\n",
       "     Time (months)  whether he/she donated blood in March 2007  \n",
       "0               98                                           1  \n",
       "1               28                                           1  \n",
       "2               35                                           1  \n",
       "3               45                                           1  \n",
       "4               77                                           0  \n",
       "..             ...                                         ...  \n",
       "743             38                                           0  \n",
       "744             52                                           0  \n",
       "745             62                                           0  \n",
       "746             39                                           0  \n",
       "747             72                                           0  \n",
       "\n",
       "[748 rows x 5 columns]"
      ]
     },
     "execution_count": 2,
     "metadata": {},
     "output_type": "execute_result"
    }
   ],
   "source": [
    "dataset = pd.read_csv('transfusion.csv')\n",
    "dataset"
   ]
  },
  {
   "cell_type": "code",
   "execution_count": 3,
   "id": "4f743185",
   "metadata": {},
   "outputs": [
    {
     "name": "stdout",
     "output_type": "stream",
     "text": [
      "\n",
      "Missing values:\n",
      "Recency (months)                              0\n",
      "Frequency (times)                             0\n",
      "Monetary (c.c. blood)                         0\n",
      "Time (months)                                 0\n",
      "whether he/she donated blood in March 2007    0\n",
      "dtype: int64\n"
     ]
    }
   ],
   "source": [
    "print(\"\\nMissing values:\")\n",
    "missing_values = dataset.isnull().sum()\n",
    "print(missing_values)"
   ]
  },
  {
   "cell_type": "code",
   "execution_count": 4,
   "id": "72d4e58b",
   "metadata": {},
   "outputs": [
    {
     "name": "stdout",
     "output_type": "stream",
     "text": [
      "\n",
      "Summary statistics:\n",
      "       Recency (months)  Frequency (times)  Monetary (c.c. blood)  \\\n",
      "count        748.000000         748.000000             748.000000   \n",
      "mean           9.506684           5.514706            1378.676471   \n",
      "std            8.095396           5.839307            1459.826781   \n",
      "min            0.000000           1.000000             250.000000   \n",
      "25%            2.750000           2.000000             500.000000   \n",
      "50%            7.000000           4.000000            1000.000000   \n",
      "75%           14.000000           7.000000            1750.000000   \n",
      "max           74.000000          50.000000           12500.000000   \n",
      "\n",
      "       Time (months)  whether he/she donated blood in March 2007  \n",
      "count     748.000000                                  748.000000  \n",
      "mean       34.282086                                    0.237968  \n",
      "std        24.376714                                    0.426124  \n",
      "min         2.000000                                    0.000000  \n",
      "25%        16.000000                                    0.000000  \n",
      "50%        28.000000                                    0.000000  \n",
      "75%        50.000000                                    0.000000  \n",
      "max        98.000000                                    1.000000  \n"
     ]
    }
   ],
   "source": [
    "print(\"\\nSummary statistics:\")\n",
    "print(dataset.describe())"
   ]
  },
  {
   "cell_type": "code",
   "execution_count": 5,
   "id": "92292f25",
   "metadata": {},
   "outputs": [],
   "source": [
    "from sklearn.model_selection import train_test_split\n",
    "from sklearn.preprocessing import StandardScaler\n",
    "from sklearn.linear_model import LogisticRegression\n",
    "from sklearn.naive_bayes import GaussianNB\n",
    "from sklearn.tree import DecisionTreeClassifier\n",
    "from sklearn.ensemble import RandomForestClassifier\n",
    "from sklearn.svm import SVC\n",
    "from sklearn.neighbors import KNeighborsClassifier\n",
    "from sklearn.metrics import classification_report, confusion_matrix, accuracy_score"
   ]
  },
  {
   "cell_type": "code",
   "execution_count": 9,
   "id": "20bac4df",
   "metadata": {},
   "outputs": [
    {
     "name": "stdout",
     "output_type": "stream",
     "text": [
      "(598, 4)\n",
      "(150, 4)\n",
      "(598,)\n",
      "(150,)\n"
     ]
    }
   ],
   "source": [
    "X = dataset.drop(['whether he/she donated blood in March 2007'], axis=1) \n",
    "y = dataset['whether he/she donated blood in March 2007']\n",
    "X_train, X_test, y_train, y_test = train_test_split(X, y, test_size=0.2)\n",
    "print(X_train.shape)\n",
    "print(X_test.shape)\n",
    "print(y_train.shape)\n",
    "print(y_test.shape)"
   ]
  },
  {
   "cell_type": "code",
   "execution_count": 10,
   "id": "ea2729c3",
   "metadata": {},
   "outputs": [
    {
     "name": "stdout",
     "output_type": "stream",
     "text": [
      "Accuracy : 0.78\n",
      "Classification Report\n",
      "              precision    recall  f1-score   support\n",
      "\n",
      "           0       0.79      0.98      0.87       116\n",
      "           1       0.60      0.09      0.15        34\n",
      "\n",
      "    accuracy                           0.78       150\n",
      "   macro avg       0.69      0.54      0.51       150\n",
      "weighted avg       0.74      0.78      0.71       150\n",
      "\n",
      "\n",
      "Confusion Matrix\n",
      "[[114   2]\n",
      " [ 31   3]]\n"
     ]
    }
   ],
   "source": [
    "accuracy = {}\n",
    "\n",
    "model1 = LogisticRegression(max_iter=1000)\n",
    "model1.fit(X_train, y_train)\n",
    "y_pred = model1.predict(X_test)\n",
    "acc = model1.score(X_test,y_test)\n",
    "accuracy['Logistic Regression'] = acc\n",
    "print(f\"Accuracy : {acc}\")\n",
    "\n",
    "print('Classification Report')\n",
    "print(classification_report(y_test, y_pred))\n",
    "print()\n",
    "\n",
    "print('Confusion Matrix')\n",
    "print(confusion_matrix(y_test, y_pred))"
   ]
  },
  {
   "cell_type": "code",
   "execution_count": 11,
   "id": "ef879e10",
   "metadata": {},
   "outputs": [
    {
     "name": "stdout",
     "output_type": "stream",
     "text": [
      "Accuracy : 0.7266666666666667\n",
      "Classification Report\n",
      "              precision    recall  f1-score   support\n",
      "\n",
      "           0       0.77      0.91      0.84       116\n",
      "           1       0.23      0.09      0.13        34\n",
      "\n",
      "    accuracy                           0.73       150\n",
      "   macro avg       0.50      0.50      0.48       150\n",
      "weighted avg       0.65      0.73      0.68       150\n",
      "\n",
      "\n",
      "Confusion Matrix\n",
      "[[106  10]\n",
      " [ 31   3]]\n"
     ]
    }
   ],
   "source": [
    "model2 = GaussianNB()\n",
    "model2.fit(X_train, y_train)\n",
    "y_pred = model2.predict(X_test)\n",
    "acc = model2.score(X_test,y_test)\n",
    "accuracy['Gaussian Naive Bayes'] = acc\n",
    "print(f\"Accuracy : {acc}\")\n",
    "\n",
    "print('Classification Report')\n",
    "print(classification_report(y_test, y_pred))\n",
    "print()\n",
    "\n",
    "print('Confusion Matrix')\n",
    "print(confusion_matrix(y_test, y_pred))"
   ]
  },
  {
   "cell_type": "code",
   "execution_count": 12,
   "id": "67d3775f",
   "metadata": {},
   "outputs": [
    {
     "name": "stdout",
     "output_type": "stream",
     "text": [
      "Accuracy : 0.7\n",
      "Classification Report\n",
      "              precision    recall  f1-score   support\n",
      "\n",
      "           0       0.81      0.80      0.81       116\n",
      "           1       0.34      0.35      0.35        34\n",
      "\n",
      "    accuracy                           0.70       150\n",
      "   macro avg       0.58      0.58      0.58       150\n",
      "weighted avg       0.70      0.70      0.70       150\n",
      "\n",
      "\n",
      "Confusion Matrix\n",
      "[[93 23]\n",
      " [22 12]]\n"
     ]
    }
   ],
   "source": [
    "model3 = DecisionTreeClassifier()\n",
    "model3.fit(X_train, y_train)\n",
    "y_pred = model3.predict(X_test)\n",
    "acc = model3.score(X_test,y_test)\n",
    "accuracy['Decision Tree'] = acc\n",
    "print(f\"Accuracy : {acc}\")\n",
    "\n",
    "print('Classification Report')\n",
    "print(classification_report(y_test, y_pred))\n",
    "print()\n",
    "\n",
    "print('Confusion Matrix')\n",
    "print(confusion_matrix(y_test, y_pred))"
   ]
  },
  {
   "cell_type": "code",
   "execution_count": 13,
   "id": "72c0f769",
   "metadata": {},
   "outputs": [
    {
     "name": "stdout",
     "output_type": "stream",
     "text": [
      "Accuracy : 0.7133333333333334\n",
      "Classification Report\n",
      "              precision    recall  f1-score   support\n",
      "\n",
      "           0       0.80      0.84      0.82       116\n",
      "           1       0.34      0.29      0.32        34\n",
      "\n",
      "    accuracy                           0.71       150\n",
      "   macro avg       0.57      0.57      0.57       150\n",
      "weighted avg       0.70      0.71      0.70       150\n",
      "\n",
      "\n",
      "Confusion Matrix\n",
      "[[97 19]\n",
      " [24 10]]\n"
     ]
    }
   ],
   "source": [
    "model4 = RandomForestClassifier()\n",
    "model4.fit(X_train, y_train)\n",
    "y_pred = model4.predict(X_test)\n",
    "acc = model4.score(X_test,y_test)\n",
    "accuracy['Random Forest'] = acc\n",
    "print(f\"Accuracy : {acc}\")\n",
    "\n",
    "print('Classification Report')\n",
    "print(classification_report(y_test, y_pred))\n",
    "print()\n",
    "\n",
    "print('Confusion Matrix')\n",
    "print(confusion_matrix(y_test, y_pred))"
   ]
  },
  {
   "cell_type": "code",
   "execution_count": 14,
   "id": "82d5d7fb",
   "metadata": {},
   "outputs": [
    {
     "name": "stdout",
     "output_type": "stream",
     "text": [
      "Accuracy : 0.7533333333333333\n",
      "Classification Report\n",
      "              precision    recall  f1-score   support\n",
      "\n",
      "           0       0.77      0.97      0.86       116\n",
      "           1       0.00      0.00      0.00        34\n",
      "\n",
      "    accuracy                           0.75       150\n",
      "   macro avg       0.38      0.49      0.43       150\n",
      "weighted avg       0.59      0.75      0.66       150\n",
      "\n",
      "\n",
      "Confusion Matrix\n",
      "[[113   3]\n",
      " [ 34   0]]\n"
     ]
    }
   ],
   "source": [
    "model5 = SVC()\n",
    "model5.fit(X_train, y_train)\n",
    "y_pred = model5.predict(X_test)\n",
    "acc = model5.score(X_test,y_test)\n",
    "accuracy['Support Vector Machine'] = acc\n",
    "print(f\"Accuracy : {acc}\")\n",
    "\n",
    "print('Classification Report')\n",
    "print(classification_report(y_test, y_pred))\n",
    "print()\n",
    "\n",
    "print('Confusion Matrix')\n",
    "print(confusion_matrix(y_test, y_pred))"
   ]
  },
  {
   "cell_type": "code",
   "execution_count": 15,
   "id": "0dd3db0e",
   "metadata": {},
   "outputs": [
    {
     "name": "stdout",
     "output_type": "stream",
     "text": [
      "Accuracy : 0.7266666666666667\n",
      "Classification Report\n",
      "              precision    recall  f1-score   support\n",
      "\n",
      "           0       0.80      0.86      0.83       116\n",
      "           1       0.36      0.26      0.31        34\n",
      "\n",
      "    accuracy                           0.73       150\n",
      "   macro avg       0.58      0.56      0.57       150\n",
      "weighted avg       0.70      0.73      0.71       150\n",
      "\n",
      "\n",
      "Confusion Matrix\n",
      "[[100  16]\n",
      " [ 25   9]]\n"
     ]
    }
   ],
   "source": [
    "model6 = KNeighborsClassifier()\n",
    "model6.fit(X_train, y_train)\n",
    "y_pred = model6.predict(X_test)\n",
    "acc = model6.score(X_test,y_test)\n",
    "accuracy['K-Nearest Neighbors'] = acc\n",
    "print(f\"Accuracy : {acc}\")\n",
    "\n",
    "print('Classification Report')\n",
    "print(classification_report(y_test, y_pred))\n",
    "print()\n",
    "\n",
    "print('Confusion Matrix')\n",
    "print(confusion_matrix(y_test, y_pred))"
   ]
  },
  {
   "cell_type": "code",
   "execution_count": 16,
   "id": "58014f09",
   "metadata": {},
   "outputs": [
    {
     "name": "stdout",
     "output_type": "stream",
     "text": [
      "Logistic Regression: Accuracy = 78.00%\n",
      "Gaussian Naive Bayes: Accuracy = 72.67%\n",
      "Decision Tree: Accuracy = 70.00%\n",
      "Random Forest: Accuracy = 71.33%\n",
      "Support Vector Machine: Accuracy = 75.33%\n",
      "K-Nearest Neighbors: Accuracy = 72.67%\n"
     ]
    }
   ],
   "source": [
    "for name, acc in accuracy.items():\n",
    "    print(f\"{name}: Accuracy = {acc*100:.2f}%\")"
   ]
  }
 ],
 "metadata": {
  "kernelspec": {
   "display_name": "Python 3 (ipykernel)",
   "language": "python",
   "name": "python3"
  },
  "language_info": {
   "codemirror_mode": {
    "name": "ipython",
    "version": 3
   },
   "file_extension": ".py",
   "mimetype": "text/x-python",
   "name": "python",
   "nbconvert_exporter": "python",
   "pygments_lexer": "ipython3",
   "version": "3.9.16"
  }
 },
 "nbformat": 4,
 "nbformat_minor": 5
}
